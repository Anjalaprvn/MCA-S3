{
 "cells": [
  {
   "cell_type": "code",
   "execution_count": 1,
   "id": "9643d825",
   "metadata": {},
   "outputs": [],
   "source": [
    "import numpy as np \n",
    "from sklearn import datasets,metrics \n",
    "from sklearn.model_selection import train_test_split \n",
    "from sklearn.naive_bayes import GaussianNB \n",
    "from sklearn.metrics import accuracy_score,confusion_matrix,classification_report  "
   ]
  },
  {
   "cell_type": "code",
   "execution_count": 2,
   "id": "5adabc2a",
   "metadata": {},
   "outputs": [],
   "source": [
    "iris=datasets.load_iris() \n",
    "X=iris.data \n",
    "y=iris.target "
   ]
  },
  {
   "cell_type": "code",
   "execution_count": 3,
   "id": "35ad17df",
   "metadata": {},
   "outputs": [],
   "source": [
    "X_train,X_test,y_train,y_test=train_test_split(X,y,test_size=0.2,random_state=42) "
   ]
  },
  {
   "cell_type": "code",
   "execution_count": 4,
   "id": "8a73e967",
   "metadata": {},
   "outputs": [],
   "source": [
    "nb_classifier=GaussianNB() "
   ]
  },
  {
   "cell_type": "code",
   "execution_count": 5,
   "id": "ba4abe4b",
   "metadata": {},
   "outputs": [
    {
     "data": {
      "text/plain": [
       "GaussianNB()"
      ]
     },
     "execution_count": 5,
     "metadata": {},
     "output_type": "execute_result"
    }
   ],
   "source": [
    "nb_classifier.fit(X_train,y_train) "
   ]
  },
  {
   "cell_type": "code",
   "execution_count": 6,
   "id": "f0c93f70",
   "metadata": {},
   "outputs": [],
   "source": [
    "y_pred=nb_classifier.predict(X_test) "
   ]
  },
  {
   "cell_type": "code",
   "execution_count": 7,
   "id": "719a3934",
   "metadata": {},
   "outputs": [],
   "source": [
    "res=confusion_matrix(y_test,y_pred) "
   ]
  },
  {
   "cell_type": "code",
   "execution_count": 8,
   "id": "4c6bec2d",
   "metadata": {},
   "outputs": [
    {
     "name": "stdout",
     "output_type": "stream",
     "text": [
      "confusion_matrix \n",
      " [[10  0  0]\n",
      " [ 0  9  0]\n",
      " [ 0  0 11]]\n"
     ]
    }
   ],
   "source": [
    "print(\"confusion_matrix \\n\",res) "
   ]
  },
  {
   "cell_type": "code",
   "execution_count": 9,
   "id": "74baeac8",
   "metadata": {},
   "outputs": [],
   "source": [
    "res1=classification_report(y_test,y_pred) "
   ]
  },
  {
   "cell_type": "code",
   "execution_count": 10,
   "id": "b6595d98",
   "metadata": {},
   "outputs": [
    {
     "name": "stdout",
     "output_type": "stream",
     "text": [
      "Classification_report \n",
      "               precision    recall  f1-score   support\n",
      "\n",
      "           0       1.00      1.00      1.00        10\n",
      "           1       1.00      1.00      1.00         9\n",
      "           2       1.00      1.00      1.00        11\n",
      "\n",
      "    accuracy                           1.00        30\n",
      "   macro avg       1.00      1.00      1.00        30\n",
      "weighted avg       1.00      1.00      1.00        30\n",
      "\n"
     ]
    }
   ],
   "source": [
    "print(\"Classification_report \\n\",res1) "
   ]
  },
  {
   "cell_type": "code",
   "execution_count": 11,
   "id": "6a812d79",
   "metadata": {},
   "outputs": [
    {
     "name": "stdout",
     "output_type": "stream",
     "text": [
      "Accuracy:\n",
      " 1.0\n"
     ]
    }
   ],
   "source": [
    "accuracy=accuracy_score(y_test,y_pred) \n",
    "print(\"Accuracy:\\n\",accuracy) "
   ]
  },
  {
   "cell_type": "code",
   "execution_count": null,
   "id": "b0d5538c",
   "metadata": {},
   "outputs": [],
   "source": []
  }
 ],
 "metadata": {
  "kernelspec": {
   "display_name": "Python 3 (ipykernel)",
   "language": "python",
   "name": "python3"
  },
  "language_info": {
   "codemirror_mode": {
    "name": "ipython",
    "version": 3
   },
   "file_extension": ".py",
   "mimetype": "text/x-python",
   "name": "python",
   "nbconvert_exporter": "python",
   "pygments_lexer": "ipython3",
   "version": "3.9.7"
  }
 },
 "nbformat": 4,
 "nbformat_minor": 5
}
