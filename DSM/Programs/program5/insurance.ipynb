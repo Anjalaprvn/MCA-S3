{
 "cells": [
  {
   "cell_type": "code",
   "execution_count": 1,
   "id": "d9f02a02",
   "metadata": {},
   "outputs": [],
   "source": [
    "import numpy as np  \n",
    "import pandas as pd \n",
    "from sklearn.model_selection import train_test_split  \n",
    "from sklearn.neighbors import KNeighborsClassifier \n",
    "from sklearn.metrics import accuracy_score \n"
   ]
  },
  {
   "cell_type": "code",
   "execution_count": 2,
   "id": "6eb3b282",
   "metadata": {},
   "outputs": [
    {
     "name": "stdout",
     "output_type": "stream",
     "text": [
      "      age     sex     bmi  children smoker     region\n",
      "0      19  female  27.900         0    yes  southwest\n",
      "1      18    male  33.770         1     no  southeast\n",
      "2      28    male  33.000         3     no  southeast\n",
      "3      33    male  22.705         0     no  northwest\n",
      "4      32    male  28.880         0     no  northwest\n",
      "...   ...     ...     ...       ...    ...        ...\n",
      "1333   50    male  30.970         3     no  northwest\n",
      "1334   18  female  31.920         0     no  northeast\n",
      "1335   18  female  36.850         0     no  southeast\n",
      "1336   21  female  25.800         0     no  southwest\n",
      "1337   61  female  29.070         0    yes  northwest\n",
      "\n",
      "[1338 rows x 6 columns]\n"
     ]
    }
   ],
   "source": [
    "data = pd.read_csv('insurance.csv') \n",
    "X = data.iloc[:, :6] \n",
    "print(X) \n"
   ]
  },
  {
   "cell_type": "code",
   "execution_count": 3,
   "id": "c9176bab",
   "metadata": {},
   "outputs": [],
   "source": [
    "y= data.iloc[:, 1] \n"
   ]
  },
  {
   "cell_type": "code",
   "execution_count": 7,
   "id": "5c6dd8df",
   "metadata": {},
   "outputs": [
    {
     "ename": "NameError",
     "evalue": "name 'LabelEncoder' is not defined",
     "output_type": "error",
     "traceback": [
      "\u001b[1;31m---------------------------------------------------------------------------\u001b[0m",
      "\u001b[1;31mNameError\u001b[0m                                 Traceback (most recent call last)",
      "\u001b[1;32m~\\AppData\\Local\\Temp/ipykernel_27036/1735676035.py\u001b[0m in \u001b[0;36m<module>\u001b[1;34m\u001b[0m\n\u001b[1;32m----> 1\u001b[1;33m \u001b[0mle\u001b[0m \u001b[1;33m=\u001b[0m \u001b[0mLabelEncoder\u001b[0m\u001b[1;33m(\u001b[0m\u001b[1;33m)\u001b[0m\u001b[1;33m\u001b[0m\u001b[1;33m\u001b[0m\u001b[0m\n\u001b[0m\u001b[0;32m      2\u001b[0m \u001b[0mcategorical_columns\u001b[0m \u001b[1;33m=\u001b[0m \u001b[1;33m[\u001b[0m\u001b[1;34m'sex'\u001b[0m\u001b[1;33m,\u001b[0m \u001b[1;34m'smoker'\u001b[0m\u001b[1;33m,\u001b[0m \u001b[1;34m'region'\u001b[0m\u001b[1;33m]\u001b[0m\u001b[1;33m\u001b[0m\u001b[1;33m\u001b[0m\u001b[0m\n\u001b[0;32m      3\u001b[0m \u001b[1;32mfor\u001b[0m \u001b[0mcol\u001b[0m \u001b[1;32min\u001b[0m \u001b[0mcategorical_columns\u001b[0m\u001b[1;33m:\u001b[0m\u001b[1;33m\u001b[0m\u001b[1;33m\u001b[0m\u001b[0m\n\u001b[0;32m      4\u001b[0m     \u001b[0mX\u001b[0m\u001b[1;33m[\u001b[0m\u001b[0mcol\u001b[0m\u001b[1;33m]\u001b[0m \u001b[1;33m=\u001b[0m \u001b[0mle\u001b[0m\u001b[1;33m.\u001b[0m\u001b[0mfit_transform\u001b[0m\u001b[1;33m(\u001b[0m\u001b[0mX\u001b[0m\u001b[1;33m[\u001b[0m\u001b[0mcol\u001b[0m\u001b[1;33m]\u001b[0m\u001b[1;33m)\u001b[0m\u001b[1;33m\u001b[0m\u001b[1;33m\u001b[0m\u001b[0m\n\u001b[0;32m      5\u001b[0m \u001b[0my\u001b[0m \u001b[1;33m=\u001b[0m \u001b[0mle\u001b[0m\u001b[1;33m.\u001b[0m\u001b[0mfit_transform\u001b[0m\u001b[1;33m(\u001b[0m\u001b[0my\u001b[0m\u001b[1;33m)\u001b[0m\u001b[1;33m\u001b[0m\u001b[1;33m\u001b[0m\u001b[0m\n",
      "\u001b[1;31mNameError\u001b[0m: name 'LabelEncoder' is not defined"
     ]
    }
   ],
   "source": [
    "le = LabelEncoder() \n",
    "categorical_columns = ['sex', 'smoker', 'region']\n",
    "for col in categorical_columns:\n",
    "    X[col] = le.fit_transform(X[col]) \n",
    "y = le.fit_transform(y) \n"
   ]
  },
  {
   "cell_type": "code",
   "execution_count": null,
   "id": "d14ebd8d",
   "metadata": {},
   "outputs": [],
   "source": [
    "X_train,X_test,y_train,y_test = train_test_split(X,y,test_size=0.2,random_state=42) \n",
    "k=3 \n",
    "knn = KNeighborsClassifier(n_neighbors=k) \n",
    "knn.fit(X_train,y_train) \n",
    "y_pred = knn.predict(X_test) \n",
    "sample=[[1,10,9,11,4,2]] \n",
    "k=knn.predict(sample) \n",
    "print(k) \n",
    "accuracy = accuracy_score(y_test,y_pred) \n",
    "print(accuracy)"
   ]
  }
 ],
 "metadata": {
  "kernelspec": {
   "display_name": "Python 3 (ipykernel)",
   "language": "python",
   "name": "python3"
  },
  "language_info": {
   "codemirror_mode": {
    "name": "ipython",
    "version": 3
   },
   "file_extension": ".py",
   "mimetype": "text/x-python",
   "name": "python",
   "nbconvert_exporter": "python",
   "pygments_lexer": "ipython3",
   "version": "3.9.7"
  }
 },
 "nbformat": 4,
 "nbformat_minor": 5
}
