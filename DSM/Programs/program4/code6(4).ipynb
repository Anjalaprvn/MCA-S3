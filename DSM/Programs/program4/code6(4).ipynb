{
 "cells": [
  {
   "cell_type": "code",
   "execution_count": 1,
   "id": "5178e43c",
   "metadata": {},
   "outputs": [
    {
     "name": "stdout",
     "output_type": "stream",
     "text": [
      "Selected Rows:\n"
     ]
    }
   ],
   "source": [
    "import pandas as pd\n",
    "# Sample DataFrame\n",
    "df = pd.DataFrame({\n",
    " 'ID': [1, 2, 3, 4],\n",
    " 'Name': ['A', 'B', 'C', 'D'],\n",
    " 'Age': [20, 21, 19, 22]\n",
    "})\n",
    "# Select 2 rows by index\n",
    "selected_rows = df.iloc[[1, 3]] # selecting 2nd and 4th rows\n",
    "print(\"Selected Rows:\")\n"
   ]
  },
  {
   "cell_type": "code",
   "execution_count": 2,
   "id": "b89edb0a",
   "metadata": {},
   "outputs": [
    {
     "name": "stdout",
     "output_type": "stream",
     "text": [
      "   ID Name  Age\n",
      "1   2    B   21\n",
      "3   4    D   22\n"
     ]
    }
   ],
   "source": [
    "print(selected_rows)"
   ]
  },
  {
   "cell_type": "code",
   "execution_count": null,
   "id": "a813eb1a",
   "metadata": {},
   "outputs": [],
   "source": []
  }
 ],
 "metadata": {
  "kernelspec": {
   "display_name": "Python 3 (ipykernel)",
   "language": "python",
   "name": "python3"
  },
  "language_info": {
   "codemirror_mode": {
    "name": "ipython",
    "version": 3
   },
   "file_extension": ".py",
   "mimetype": "text/x-python",
   "name": "python",
   "nbconvert_exporter": "python",
   "pygments_lexer": "ipython3",
   "version": "3.9.7"
  }
 },
 "nbformat": 4,
 "nbformat_minor": 5
}
