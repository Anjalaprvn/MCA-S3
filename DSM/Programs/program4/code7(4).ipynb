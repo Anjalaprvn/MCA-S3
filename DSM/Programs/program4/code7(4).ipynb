{
 "cells": [
  {
   "cell_type": "code",
   "execution_count": 1,
   "id": "a50d7745",
   "metadata": {},
   "outputs": [
    {
     "name": "stdout",
     "output_type": "stream",
     "text": [
      "Original DataFrame with NaN:\n",
      "      A     B\n",
      "0  10.0   NaN\n",
      "1   NaN  50.0\n",
      "2  30.0  60.0\n"
     ]
    }
   ],
   "source": [
    "import pandas as pd\n",
    "import numpy as np\n",
    "\n",
    "df = pd.DataFrame({\n",
    " 'A': [10, np.nan, 30],\n",
    " 'B': [np.nan, 50, 60]\n",
    "})\n",
    "print(\"Original DataFrame with NaN:\")\n",
    "print(df)\n"
   ]
  },
  {
   "cell_type": "code",
   "execution_count": 2,
   "id": "58249987",
   "metadata": {},
   "outputs": [
    {
     "name": "stdout",
     "output_type": "stream",
     "text": [
      "\n",
      "DataFrame after Replacing NaN with 0:\n",
      "      A     B\n",
      "0  10.0   0.0\n",
      "1   0.0  50.0\n",
      "2  30.0  60.0\n"
     ]
    }
   ],
   "source": [
    "\n",
    "df_filled = df.fillna(0)\n",
    "print(\"\\nDataFrame after Replacing NaN with 0:\")\n",
    "print(df_filled)"
   ]
  },
  {
   "cell_type": "code",
   "execution_count": null,
   "id": "87ac2da0",
   "metadata": {},
   "outputs": [],
   "source": []
  }
 ],
 "metadata": {
  "kernelspec": {
   "display_name": "Python 3 (ipykernel)",
   "language": "python",
   "name": "python3"
  },
  "language_info": {
   "codemirror_mode": {
    "name": "ipython",
    "version": 3
   },
   "file_extension": ".py",
   "mimetype": "text/x-python",
   "name": "python",
   "nbconvert_exporter": "python",
   "pygments_lexer": "ipython3",
   "version": "3.9.7"
  }
 },
 "nbformat": 4,
 "nbformat_minor": 5
}
