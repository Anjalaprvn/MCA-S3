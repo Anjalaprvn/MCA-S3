{
 "cells": [
  {
   "cell_type": "code",
   "execution_count": 1,
   "id": "b75bd3ef",
   "metadata": {},
   "outputs": [],
   "source": [
    "import numpy as np \n",
    "import pandas as pd \n",
    "from sklearn.datasets import load_iris \n",
    "from sklearn.model_selection import train_test_split \n",
    "from sklearn.linear_model import LinearRegression \n",
    "from sklearn.metrics import mean_squared_error"
   ]
  },
  {
   "cell_type": "code",
   "execution_count": 2,
   "id": "d5f47e1f",
   "metadata": {},
   "outputs": [],
   "source": [
    "data = load_iris() \n",
    "X=data.data \n",
    "y=data.target \n",
    "X_train,X_test,y_train,y_test=train_test_split(X,y,test_size=0.2,random_state=42)"
   ]
  },
  {
   "cell_type": "code",
   "execution_count": 3,
   "id": "f914c74d",
   "metadata": {},
   "outputs": [],
   "source": [
    "lr_model=LinearRegression() \n",
    "lr_model.fit(X_train,y_train) \n",
    "lr_predictions=lr_model.predict(X_test) \n",
    "lr_mse=mean_squared_error(y_test,lr_predictions) "
   ]
  },
  {
   "cell_type": "code",
   "execution_count": 4,
   "id": "e98e6bee",
   "metadata": {},
   "outputs": [
    {
     "name": "stdout",
     "output_type": "stream",
     "text": [
      "Linear Regression MSE: 0.03711379440797688\n"
     ]
    }
   ],
   "source": [
    "print(f'Linear Regression MSE: {lr_mse}')"
   ]
  },
  {
   "cell_type": "code",
   "execution_count": null,
   "id": "84cf6b8a",
   "metadata": {},
   "outputs": [],
   "source": []
  }
 ],
 "metadata": {
  "kernelspec": {
   "display_name": "Python 3 (ipykernel)",
   "language": "python",
   "name": "python3"
  },
  "language_info": {
   "codemirror_mode": {
    "name": "ipython",
    "version": 3
   },
   "file_extension": ".py",
   "mimetype": "text/x-python",
   "name": "python",
   "nbconvert_exporter": "python",
   "pygments_lexer": "ipython3",
   "version": "3.9.7"
  }
 },
 "nbformat": 4,
 "nbformat_minor": 5
}
